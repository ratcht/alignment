{
 "cells": [
  {
   "cell_type": "code",
   "execution_count": null,
   "metadata": {},
   "outputs": [],
   "source": [
    "from huggingface_hub import login\n",
    "from dotenv import load_dotenv\n",
    "\n",
    "# Enter your Hugging Face token here\n",
    "load_dotenv()\n",
    "huggingface_token = os.get(\"hf_token\")\n",
    "\n",
    "# Log in to Hugging Face\n",
    "login(token=huggingface_token)\n",
    "\n",
    "print(\"Successfully logged into Hugging Face!\")"
   ]
  },
  {
   "cell_type": "code",
   "execution_count": null,
   "metadata": {},
   "outputs": [],
   "source": [
    "import torch\n",
    "\n",
    "# Check if CUDA is available\n",
    "if torch.cuda.is_available():\n",
    "  # Get the current GPU device index\n",
    "  current_device = torch.cuda.current_device()\n",
    "  # Get the name of the GPU\n",
    "  device_name = torch.cuda.get_device_name(current_device)\n",
    "  print(f\"Connected to GPU: {device_name}\")\n",
    "else:\n",
    "  print(\"No GPU available.\")"
   ]
  }
 ],
 "metadata": {
  "kernelspec": {
   "display_name": ".venv",
   "language": "python",
   "name": "python3"
  },
  "language_info": {
   "name": "python",
   "version": "3.10.12"
  }
 },
 "nbformat": 4,
 "nbformat_minor": 2
}
